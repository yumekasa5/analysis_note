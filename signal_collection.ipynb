{
 "cells": [
  {
   "cell_type": "code",
   "execution_count": null,
   "id": "a8a1a6ec-fa5f-4fd7-a4a0-c35f6ee72584",
   "metadata": {},
   "outputs": [],
   "source": [
    "import glob\n",
    "import numpy as np\n",
    "import pandas as pd\n",
    "import matplotlib.pyplot as plt\n",
    "import cv2\n",
    "import os"
   ]
  },
  {
   "cell_type": "code",
   "execution_count": null,
   "id": "228cd2f0-f648-4827-81f4-3b83becb3c9f",
   "metadata": {},
   "outputs": [],
   "source": [
    "# 関数の定義\n",
    "\n",
    "def exec_process():\n",
    "    # フォルダの中のpng画像ファイルパスリストを取得\n",
    "    # 画像ファイルがあるフォルダ名は\"Z_7000um\"の形式でその画像を取得したときのZ座標を示す\n",
    "    # Z_7000um, Z_0umのようにZ座標ごとに分かれたフォルダの中の画像ファイルパスのリストを取得し\"ファイルパス\"とZ座標のカラムを持つDataFrameを作成\n",
    "    # 画像をグレースケールで読み込み、その画像のリストを作成し\"画像\"カラムを追加\n",
    "    # 画像の平均輝度を計算し\"平均輝度\"カラムを追加\n",
    "    # 作成したDataFrameを返す\n",
    "    root_dir_path = \"\" # 画像ファイルがあるフォルダのパス\n",
    "    folder_list = os.listdir(root_dir_path)\n",
    "    df_list = []\n",
    "    for folder in folder_list:\n",
    "        path_list = glob.glob(f'{root_dir_path}/{folder}/*.png')\n",
    "        df = pd.DataFrame()\n",
    "        # 画像のタイムスタンプをカラムに追加\n",
    "        df['timestamp'] = [path.split('_')[1].split('.')[0] for path in path_list]\n",
    "        df['path'] = path_list\n",
    "        df['Z'] = folder\n",
    "        img_list = [cv2.imread(path, 0) for path in path_list]\n",
    "        df['img'] = img_list\n",
    "        avg_brightness_list = [np.mean(img) for img in img_list]\n",
    "        df['avg_brightness'] = avg_brightness_list\n",
    "        df_list.append(df)\n",
    "    \n",
    "    # 指定したZ座標における時刻と平均輝度のグラフを描画\n",
    "    df = pd.concat(df_list)\n",
    "    df['timestamp'] = pd.to_datetime(df['timestamp'])\n",
    "    df = df.sort_values('timestamp')\n",
    "    z_list = df['Z'].unique()\n",
    "    for z in z_list:\n",
    "        df_z = df[df['Z'] == z]\n",
    "        plt.plot(df_z['timestamp'], df_z['avg_brightness'], label=z)\n",
    "    plt.legend()\n",
    "    plt.show()\n",
    "    return df"
   ]
  },
  {
   "cell_type": "code",
   "execution_count": null,
   "id": "b82dbe33-fab4-4561-9389-a265e1471d93",
   "metadata": {},
   "outputs": [],
   "source": []
  }
 ],
 "metadata": {
  "kernelspec": {
   "display_name": "Python 3 (ipykernel)",
   "language": "python",
   "name": "python3"
  },
  "language_info": {
   "codemirror_mode": {
    "name": "ipython",
    "version": 3
   },
   "file_extension": ".py",
   "mimetype": "text/x-python",
   "name": "python",
   "nbconvert_exporter": "python",
   "pygments_lexer": "ipython3",
   "version": "3.9.13"
  }
 },
 "nbformat": 4,
 "nbformat_minor": 5
}
